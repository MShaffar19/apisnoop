{
 "cells": [
  {
   "cell_type": "code",
   "execution_count": 1,
   "metadata": {},
   "outputs": [],
   "source": [
    "import sys\n",
    "from audit.lib.parsers import *\n",
    "from audit.logreview import *\n",
    "import glob\n",
    "from downloadArtifacts import url_to_json"
   ]
  },
  {
   "cell_type": "code",
   "execution_count": 2,
   "metadata": {},
   "outputs": [
    {
     "data": {
      "text/plain": [
       "['data/processed-audits/conformance_1.10.9_2018-10-24.json',\n",
       " 'data/processed-audits/conformance_1.10.9_2018-10-24_e2e-only.json',\n",
       " 'data/processed-audits/conformance_1.11.3_2018-10-24.json',\n",
       " 'data/processed-audits/conformance_1.11.3_2018-10-24_e2e-only.json',\n",
       " 'data/processed-audits/conformance_1.12.0_2018-10-03.json',\n",
       " 'data/processed-audits/conformance_1.12.0_2018-10-03_e2e-only.json',\n",
       " 'data/processed-audits/conformance_1.12.1_2018-10-23_e2e-only.json',\n",
       " 'data/processed-audits/conformance_1.12.1_2018-10-24.json',\n",
       " 'data/processed-audits/conformance_1.13.0_2018-11-03.json',\n",
       " 'data/processed-audits/conformance_1.13.0_2018-11-03_e2e-only.json',\n",
       " 'data/processed-audits/conformance_1.9.11_2018-10-23_e2e-only.json',\n",
       " 'data/processed-audits/conformance_1.9.11_2018-10-24.json',\n",
       " 'data/processed-audits/sig-release_1.10.10_2018-11-05.json',\n",
       " 'data/processed-audits/sig-release_1.10.10_2018-11-05_e2e-only.json',\n",
       " 'data/processed-audits/sig-release_1.11.5_2018-11-05.json',\n",
       " 'data/processed-audits/sig-release_1.11.5_2018-11-05_e2e-only.json',\n",
       " 'data/processed-audits/sig-release_1.12.3_2018-11-05.json',\n",
       " 'data/processed-audits/sig-release_1.12.3_2018-11-05_e2e-only.json',\n",
       " 'data/processed-audits/sig-release_1.13.0_2018-11-05.json',\n",
       " 'data/processed-audits/sig-release_1.13.0_2018-11-05_e2e-only.json',\n",
       " 'data/processed-audits/sig-release_1.9.12_2018-11-06.json',\n",
       " 'data/processed-audits/sig-release_1.9.12_2018-11-06_e2e-only.json']"
      ]
     },
     "execution_count": 2,
     "metadata": {},
     "output_type": "execute_result"
    }
   ],
   "source": [
    "#files=glob.glob('data/processed-audits/*_e2e-only.json')\n",
    "files=glob.glob('data/processed-audits/*.json')\n",
    "files.sort()\n",
    "files"
   ]
  },
  {
   "cell_type": "code",
   "execution_count": 20,
   "metadata": {},
   "outputs": [],
   "source": [
    "data={}\n",
    "for focusfile in files:\n",
    "    name = focusfile.split('/')[-1].split('.json')[0]\n",
    "    ff=json.loads(open(focusfile).read())\n",
    "    data[name]=ff"
   ]
  },
  {
   "cell_type": "code",
   "execution_count": 22,
   "metadata": {},
   "outputs": [
    {
     "name": "stdout",
     "output_type": "stream",
     "text": [
      "conformance_1.10.9_2018-10-24\n",
      "conformance_1.10.9_2018-10-24_e2e-only\n",
      "conformance_1.11.3_2018-10-24\n",
      "conformance_1.11.3_2018-10-24_e2e-only\n",
      "conformance_1.12.0_2018-10-03\n",
      "conformance_1.12.0_2018-10-03_e2e-only\n",
      "conformance_1.12.1_2018-10-23_e2e-only\n",
      "conformance_1.12.1_2018-10-24\n",
      "conformance_1.13.0_2018-11-03\n",
      "conformance_1.13.0_2018-11-03_e2e-only\n",
      "conformance_1.9.11_2018-10-23_e2e-only\n",
      "conformance_1.9.11_2018-10-24\n",
      "sig-release_1.10.10_2018-11-05\n",
      "sig-release_1.10.10_2018-11-05_e2e-only\n",
      "sig-release_1.11.5_2018-11-05\n",
      "sig-release_1.11.5_2018-11-05_e2e-only\n",
      "sig-release_1.12.3_2018-11-05\n",
      "sig-release_1.12.3_2018-11-05_e2e-only\n",
      "sig-release_1.13.0_2018-11-05\n",
      "sig-release_1.13.0_2018-11-05_e2e-only\n",
      "sig-release_1.9.12_2018-11-06\n",
      "sig-release_1.9.12_2018-11-06_e2e-only\n"
     ]
    }
   ],
   "source": [
    "for entry in data.keys():\n",
    "    print(entry)"
   ]
  },
  {
   "cell_type": "code",
   "execution_count": 4,
   "metadata": {},
   "outputs": [
    {
     "ename": "NameError",
     "evalue": "name 'branch_or_tag' is not defined",
     "output_type": "error",
     "traceback": [
      "\u001b[0;31m---------------------------------------------------------------------------\u001b[0m",
      "\u001b[0;31mNameError\u001b[0m                                 Traceback (most recent call last)",
      "\u001b[0;32m<ipython-input-4-8956404ad927>\u001b[0m in \u001b[0;36m<module>\u001b[0;34m()\u001b[0m\n\u001b[0;32m----> 1\u001b[0;31m \u001b[0mopenapi_uri\u001b[0m \u001b[0;34m=\u001b[0m \u001b[0;34m\"https://raw.githubusercontent.com/kubernetes/kubernetes/\"\u001b[0m \u001b[0;34m+\u001b[0m               \u001b[0;34m\"%s/api/openapi-spec/swagger.json\"\u001b[0m \u001b[0;34m%\u001b[0m \u001b[0;34m(\u001b[0m\u001b[0mbranch_or_tag\u001b[0m\u001b[0;34m)\u001b[0m\u001b[0;34m\u001b[0m\u001b[0m\n\u001b[0m\u001b[1;32m      2\u001b[0m \u001b[0mprint\u001b[0m\u001b[0;34m(\u001b[0m\u001b[0mopenapi_uri\u001b[0m\u001b[0;34m)\u001b[0m\u001b[0;34m\u001b[0m\u001b[0m\n",
      "\u001b[0;31mNameError\u001b[0m: name 'branch_or_tag' is not defined"
     ]
    }
   ],
   "source": [
    "openapi_uri = \"https://raw.githubusercontent.com/kubernetes/kubernetes/\" + \\\n",
    "              \"%s/api/openapi-spec/swagger.json\" % (branch_or_tag)\n",
    "print(openapi_uri)"
   ]
  },
  {
   "cell_type": "markdown",
   "metadata": {},
   "source": [
    "## Load/Parse OpenAPI Spec\n",
    "Based on the branch we are pulling from"
   ]
  },
  {
   "cell_type": "code",
   "execution_count": null,
   "metadata": {},
   "outputs": [],
   "source": [
    "openapi_spec = load_openapi_spec(openapi_uri)"
   ]
  },
  {
   "cell_type": "markdown",
   "metadata": {},
   "source": [
    "## Load audit-log\n",
    "Bascially parses the raw json into a list"
   ]
  },
  {
   "cell_type": "code",
   "execution_count": null,
   "metadata": {},
   "outputs": [],
   "source": [
    "audit_log = load_audit_log(audit_file)"
   ]
  },
  {
   "cell_type": "markdown",
   "metadata": {},
   "source": [
    "## Generate coverage report\n",
    "This includes endpoint / test / test_tag / test_sequences etc"
   ]
  },
  {
   "cell_type": "code",
   "execution_count": null,
   "metadata": {},
   "outputs": [],
   "source": [
    "report = generate_coverage_report(openapi_spec, audit_log)"
   ]
  }
 ],
 "metadata": {
  "celltoolbar": "Raw Cell Format",
  "kernelspec": {
   "display_name": "Python 2",
   "language": "python",
   "name": "python2"
  },
  "language_info": {
   "codemirror_mode": {
    "name": "ipython",
    "version": 3
   },
   "file_extension": ".py",
   "mimetype": "text/x-python",
   "name": "python",
   "nbconvert_exporter": "python",
   "pygments_lexer": "ipython3",
   "version": "3.7.0"
  }
 },
 "nbformat": 4,
 "nbformat_minor": 2
}
