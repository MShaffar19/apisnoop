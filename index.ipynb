{
 "cells": [
   {
   "cell_type": "code",
   "execution_count": null,
   "metadata": {},
   "outputs": [],
   "source": [
    "import sys\n",
    "sys.path.append(\"./audit\")\n",
    "from lib.parsers import *\n",
    "from logreview import *"
   ]
  },
  {
   "cell_type": "markdown",
   "metadata": {},
   "source": [
    "audit_file='./data/audit-logs/master/audit.log'\n",
    "branch_or_tag = 'master'\n",
    "openapi_uri = \"https://raw.githubusercontent.com/kubernetes/kubernetes/\" + \\\n",
    "              \"%s/api/openapi-spec/swagger.json\" % (branch_or_tag)\n",
    "print(openapi_uri)"
   ]
  },
  {
   "cell_type": "markdown",
   "metadata": {},
   "source": [
    "## Load/Parse OpenAPI Spec\n",
    "Based on the branch we are pulling from"
   ]
  },
  {
   "cell_type": "code",
   "execution_count": null,
   "metadata": {},
   "outputs": [],
   "source": [
    "openapi_spec = load_openapi_spec(openapi_uri)"
   ]
  },
  {
   "cell_type": "markdown",
   "metadata": {},
   "source": [
    "## Load audit-log\n",
    "Bascially parses the raw json into a list"
   ]
  },
  {
   "cell_type": "code",
   "execution_count": null,
   "metadata": {},
   "outputs": [],
   "source": [
    "audit_log = load_audit_log(audit_file)"
   ]
  },
  {
   "cell_type": "markdown",
   "metadata": {},
   "source": [
    "## Generate coverage report\n",
    "This includes endpoint / test / test_tag / test_sequences etc"
   ]
  },
  {
   "cell_type": "code",
   "execution_count": null,
   "metadata": {},
   "outputs": [],
   "source": [
    "report = generate_coverage_report(openapi_spec, audit_log)"
   ]
  }
 ],
 "metadata": {
  "celltoolbar": "Raw Cell Format",
  "kernelspec": {
   "display_name": "Python 2",
   "language": "python",
   "name": "python2"
  },
  "language_info": {
   "codemirror_mode": {
    "name": "ipython",
    "version": 2
   },
   "file_extension": ".py",
   "mimetype": "text/x-python",
   "name": "python",
   "nbconvert_exporter": "python",
   "pygments_lexer": "ipython2",
   "version": "2.7.15"
  }
 },
 "nbformat": 4,
 "nbformat_minor": 2
}
